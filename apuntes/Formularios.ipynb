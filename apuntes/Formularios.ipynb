{
 "cells": [
  {
   "cell_type": "markdown",
   "metadata": {},
   "source": [
    "# Formulario de Inscripción\n",
    "\n",
    "- Nombre completo\n",
    "- Correo electrónico o WhatsApp\n",
    "- Estudiante, docente, particular o miembro de IEEE\n",
    "\n",
    "# Formulario de Asistencia\n",
    "\n",
    "- Nombre completo\n",
    "- Correo electrónico"
   ]
  }
 ],
 "metadata": {
  "language_info": {
   "name": "python"
  },
  "orig_nbformat": 4
 },
 "nbformat": 4,
 "nbformat_minor": 2
}
